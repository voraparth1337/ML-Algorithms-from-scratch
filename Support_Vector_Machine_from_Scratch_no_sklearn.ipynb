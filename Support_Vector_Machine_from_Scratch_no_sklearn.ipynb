{
 "cells": [
  {
   "cell_type": "markdown",
   "metadata": {},
   "source": [
    "# Support Vector Machine Classification\n",
    "Support Vector Machine that will find the optimal hyperplane that maximizes the margin between two toy data classes using gradient descent.\n",
    "\n",
    "## Using only numpy and matplotlib"
   ]
  },
  {
   "cell_type": "code",
   "execution_count": 1,
   "metadata": {},
   "outputs": [
    {
     "data": {
      "text/plain": [
       "[<matplotlib.lines.Line2D at 0x220d8385ba8>]"
      ]
     },
     "execution_count": 1,
     "metadata": {},
     "output_type": "execute_result"
    },
    {
     "data": {
      "image/png": "[encoded data removed]",
      "text/plain": [
       "<matplotlib.figure.Figure at 0x220d8385b70>"
      ]
     },
     "metadata": {},
     "output_type": "display_data"
    }
   ],
   "source": [
    "'''\n",
    "    _________         _________\n",
    "   /         \\       /         \\   DrMrSnake\n",
    "  /  /~~~~~\\  \\     /  /~~~~~\\  \\  \n",
    "  |  |     |  |     |  |     |  |        /\n",
    "  |  |     |  |     |  |     |  |       //\n",
    "-(o--o)-   \\  \\_____/  /     \\  \\_____/ /\n",
    "  \\__/      \\         /       \\        /\n",
    "   |         ~~~~~~~~~         ~~~~~~~~\n",
    "\n",
    "'''\n",
    "\n",
    "# to perform math operations\n",
    "import numpy as np\n",
    "# to plot data\n",
    "from matplotlib import pyplot as plt\n",
    "%matplotlib inline\n",
    "\n",
    "# Step 1- Define Data\n",
    "\n",
    "# form [X value, Y value, Bias term]\n",
    "X = np.array([\n",
    "    [-2,4,-1],\n",
    "    [4,1,-1],\n",
    "    [1, 6, -1],\n",
    "    [2, 4, -1],\n",
    "    [6, 2, -1],\n",
    "])\n",
    "\n",
    "#output labels - First 2 examples are labeled '-1' and last 3 are labeled '+1'\n",
    "y = np.array([-1,-1,1,1,1])\n",
    "\n",
    "for index,item in enumerate(X):\n",
    "    if index < 2:\n",
    "        plt.scatter(x = item[0],y = item[1],marker='+',lw=2,s=120)\n",
    "    else:\n",
    "        plt.scatter(x = item[0],y = item[1],marker='_',lw=2,s=120)\n",
    "        \n",
    "# random line seperating the data\n",
    "plt.plot([-2,6],[6,0.5])"
   ]
  },
  {
   "cell_type": "code",
   "execution_count": 2,
   "metadata": {
    "collapsed": true
   },
   "outputs": [],
   "source": [
    "# stochastic gradient descent \n",
    "\n",
    "def svm_sgd_plot(X,Y):\n",
    "    #Initialize our SVMs weight vector with zeros (3 values)\n",
    "    w = np.zeros(len(X[0]))\n",
    "    # learning rate\n",
    "    eta = 1\n",
    "    # iterations to train for\n",
    "    epochs = 100000\n",
    "    # error list, to plot them later\n",
    "    errors = []\n",
    "    \n",
    "    # training\n",
    "    for epoch in range(1,epochs):\n",
    "        error = 0\n",
    "        for index, item in enumerate(X):\n",
    "            # misclassifications\n",
    "            if (Y[index]*np.dot(X[index], w)) < 1:\n",
    "                # update weights \n",
    "                w = w + eta * ( (X[index] * Y[index]) + (-2  *(1/epoch)* w) ) \n",
    "                error = 1\n",
    "            else:\n",
    "                # correct classification\n",
    "                w = w + eta * (-2  *(1/epoch)* w)\n",
    "        errors.append(error)  \n",
    "\n",
    "    plt.plot(errors,'|')\n",
    "    plt.ylim(0.5,1.5)\n",
    "    plt.axes().set_yticklabels([])\n",
    "    plt.xlabel('Epoch')\n",
    "    plt.ylabel('Misclassified')\n",
    "    plt.show()\n",
    "    \n",
    "    return w"
   ]
  },
  {
   "cell_type": "code",
   "execution_count": 3,
   "metadata": {},
   "outputs": [
    {
     "data": {
      "image/png": "[encoded data removed]",
      "text/plain": [
       "<matplotlib.figure.Figure at 0x220da61dfd0>"
      ]
     },
     "metadata": {},
     "output_type": "display_data"
    }
   ],
   "source": [
    "w = svm_sgd_plot(X,y)"
   ]
  },
  {
   "cell_type": "code",
   "execution_count": 4,
   "metadata": {},
   "outputs": [
    {
     "data": {
      "text/plain": [
       "<matplotlib.quiver.Quiver at 0x220da97b5f8>"
      ]
     },
     "execution_count": 4,
     "metadata": {},
     "output_type": "execute_result"
    },
    {
     "data": {
      "image/png": "[encoded data removed]",
      "text/plain": [
       "<matplotlib.figure.Figure at 0x220da733c88>"
      ]
     },
     "metadata": {},
     "output_type": "display_data"
    }
   ],
   "source": [
    "for d, sample in enumerate(X):\n",
    "    # Plot the negative samples\n",
    "    if d < 2:\n",
    "        plt.scatter(sample[0], sample[1], s=120, marker='_', linewidths=2)\n",
    "    # Plot the positive samples\n",
    "    else:\n",
    "        plt.scatter(sample[0], sample[1], s=120, marker='+', linewidths=2)\n",
    "\n",
    "# Add our test samples\n",
    "plt.scatter(2,2, s=120, marker='_', linewidths=2, color='yellow')\n",
    "plt.scatter(4,3, s=120, marker='+', linewidths=2, color='blue')\n",
    "\n",
    "# Print the hyperplane calculated by svm_sgd()\n",
    "x2=[w[0],w[1],-w[1],w[0]]\n",
    "x3=[w[0],w[1],w[1],-w[0]]\n",
    "\n",
    "x2x3 =np.array([x2,x3])\n",
    "X,Y,U,V = zip(*x2x3)\n",
    "ax = plt.gca()\n",
    "ax.quiver(X,Y,U,V,scale=1, color='blue')"
   ]
  }
 ],
 "metadata": {
  "kernelspec": {
   "display_name": "Python 3",
   "language": "python",
   "name": "python3"
  },
  "language_info": {
   "codemirror_mode": {
    "name": "ipython",
    "version": 3
   },
   "file_extension": ".py",
   "mimetype": "text/x-python",
   "name": "python",
   "nbconvert_exporter": "python",
   "pygments_lexer": "ipython3",
   "version": "3.6.1"
  }
 },
 "nbformat": 4,
 "nbformat_minor": 2
}
